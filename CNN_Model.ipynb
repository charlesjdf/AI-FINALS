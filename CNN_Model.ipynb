{
  "nbformat": 4,
  "nbformat_minor": 0,
  "metadata": {
    "colab": {
      "provenance": [],
      "gpuType": "T4",
      "include_colab_link": true
    },
    "kernelspec": {
      "name": "python3",
      "display_name": "Python 3"
    },
    "language_info": {
      "name": "python"
    },
    "accelerator": "GPU"
  },
  "cells": [
    {
      "cell_type": "markdown",
      "metadata": {
        "id": "view-in-github",
        "colab_type": "text"
      },
      "source": [
        "<a href=\"https://colab.research.google.com/github/charlesjdf/AI-FINALS/blob/main/CNN_Model.ipynb\" target=\"_parent\"><img src=\"https://colab.research.google.com/assets/colab-badge.svg\" alt=\"Open In Colab\"/></a>"
      ]
    },
    {
      "cell_type": "code",
      "source": [
        "# Google Drive mount\n",
        "from google.colab import drive\n",
        "drive.mount('/content/drive')"
      ],
      "metadata": {
        "colab": {
          "base_uri": "https://localhost:8080/"
        },
        "id": "eRW7G1Lu5VRd",
        "outputId": "6afebc23-55ed-4bc9-b1cc-d2f85562f2e2"
      },
      "execution_count": 74,
      "outputs": [
        {
          "output_type": "stream",
          "name": "stdout",
          "text": [
            "Drive already mounted at /content/drive; to attempt to forcibly remount, call drive.mount(\"/content/drive\", force_remount=True).\n"
          ]
        }
      ]
    },
    {
      "cell_type": "code",
      "source": [
        "# Libraries\n",
        "import os\n",
        "import tensorflow as tf\n",
        "from tensorflow.keras.preprocessing.image import ImageDataGenerator\n",
        "from tensorflow.keras.models import Sequential\n",
        "from tensorflow.keras.layers import Conv2D, MaxPooling2D, Flatten, Dense, Dropout\n",
        "from tensorflow.keras.callbacks import EarlyStopping"
      ],
      "metadata": {
        "id": "Mion1p1q4125"
      },
      "execution_count": 75,
      "outputs": []
    },
    {
      "cell_type": "code",
      "source": [
        "# directory paths for training and validation data\n",
        "TRAIN_DIR = '/content/drive/MyDrive/AI/datasets/Meat_Freshness.v1-new-dataset.multiclass/train'\n",
        "VAL_DIR = '/content/drive/MyDrive/AI/datasets/Meat_Freshness.v1-new-dataset.multiclass/valid'\n",
        "IMG_SIZE = (208, 208)\n",
        "BATCH_SIZE = 115"
      ],
      "metadata": {
        "id": "UZnmgYPv47eu"
      },
      "execution_count": 76,
      "outputs": []
    },
    {
      "cell_type": "code",
      "source": [
        "# Data Preparation\n",
        "def img_generators(train_dir, val_dir, img_size=IMG_SIZE, batch_size=BATCH_SIZE):\n",
        "      # Check if the directories exist and contain data\n",
        "    if not os.path.exists(train_dir) or len(os.listdir(train_dir)) == 0:\n",
        "        raise ValueError(f\"Training directory '{train_dir}' does not exist or is empty.\")\n",
        "    if not os.path.exists(val_dir) or len(os.listdir(val_dir)) == 0:\n",
        "        raise ValueError(f\"Validation directory '{val_dir}' does not exist or is empty.\")\n",
        "\n",
        "    train_datagen = ImageDataGenerator(\n",
        "        rescale=1./255,\n",
        "        rotation_range=20,\n",
        "        width_shift_range=0.2,\n",
        "        height_shift_range=0.2,\n",
        "        shear_range=0.2,\n",
        "        zoom_range=0.2,\n",
        "        horizontal_flip=True\n",
        "    )\n",
        "    val_datagen = ImageDataGenerator(rescale=1./255)\n",
        "\n",
        "    train_generator = train_datagen.flow_from_directory(\n",
        "        TRAIN_DIR,\n",
        "        target_size=img_size,\n",
        "        batch_size=batch_size,\n",
        "        class_mode='binary'\n",
        "    )\n",
        "\n",
        "    val_generator = val_datagen.flow_from_directory(\n",
        "        val_dir,\n",
        "        target_size=img_size,\n",
        "        batch_size=batch_size,\n",
        "        class_mode='binary'\n",
        "    )\n",
        "\n",
        "    return train_generator, val_generator"
      ],
      "metadata": {
        "id": "wgrMz4Yy5uVm"
      },
      "execution_count": 77,
      "outputs": []
    },
    {
      "cell_type": "code",
      "source": [
        "# CNN Model\n",
        "def cnn_model(input_shape=(IMG_SIZE[0], IMG_SIZE[1], 3)):\n",
        "    model = Sequential([\n",
        "        Conv2D(32, (3, 3), activation='relu', input_shape=input_shape),\n",
        "        MaxPooling2D(2, 2),\n",
        "        Conv2D(64, (3, 3), activation='relu'),\n",
        "        MaxPooling2D(2, 2),\n",
        "        Conv2D(128, (3, 3), activation='relu'),\n",
        "        MaxPooling2D(2, 2),\n",
        "        Flatten(),\n",
        "        Dense(128, activation='relu'),\n",
        "        Dropout(0.5),\n",
        "        Dense(1, activation='sigmoid')  # Binary classification\n",
        "    ])\n",
        "\n",
        "    model.compile(optimizer='adam', loss='binary_crossentropy', metrics=['accuracy'])\n",
        "    return model\n"
      ],
      "metadata": {
        "id": "8D88vUfn53d_"
      },
      "execution_count": 78,
      "outputs": []
    },
    {
      "cell_type": "code",
      "source": [
        "# Model Training\n",
        "def train_cnn_model(model, train_generator, val_generator, epochs=10):\n",
        "    early_stopping = EarlyStopping(monitor='val_loss', patience=3, restore_best_weights=True)\n",
        "    history = model.fit(\n",
        "        train_generator,\n",
        "        validation_data=val_generator,\n",
        "        epochs=epochs,\n",
        "        callbacks=[early_stopping]\n",
        "    )\n",
        "    return model, history"
      ],
      "metadata": {
        "id": "FiJ4igj658FU"
      },
      "execution_count": 79,
      "outputs": []
    },
    {
      "cell_type": "code",
      "source": [
        "# Main function to load data, build, and train the model\n",
        "def main():\n",
        "    train_generator, val_generator = img_generators(TRAIN_DIR, VAL_DIR)\n",
        "    model = cnn_model(input_shape=(IMG_SIZE[0], IMG_SIZE[1], 3))\n",
        "    model, history = train_cnn_model(model, train_generator, val_generator, epochs=60)\n",
        "\n",
        "    # Save the trained model to Google Drive\n",
        "    model_path = '/content/drive/MyDrive/AI/Ai train save path/meat_freshness_classifier.h5'\n",
        "    model.save(model_path)\n",
        "    print(f\"Model training complete and saved as '{model_path}'.\")"
      ],
      "metadata": {
        "id": "ioZKBYbR6BEm"
      },
      "execution_count": 80,
      "outputs": []
    },
    {
      "cell_type": "code",
      "source": [
        "# Run the trainer\n",
        "main()"
      ],
      "metadata": {
        "id": "cbRFX1Ky6CXm",
        "colab": {
          "base_uri": "https://localhost:8080/"
        },
        "outputId": "e912e0dc-a081-4d72-a8c4-75e7ce5d5bdd"
      },
      "execution_count": 81,
      "outputs": [
        {
          "output_type": "stream",
          "name": "stdout",
          "text": [
            "Found 1815 images belonging to 3 classes.\n",
            "Found 403 images belonging to 3 classes.\n"
          ]
        },
        {
          "output_type": "stream",
          "name": "stderr",
          "text": [
            "/usr/local/lib/python3.10/dist-packages/keras/src/layers/convolutional/base_conv.py:107: UserWarning: Do not pass an `input_shape`/`input_dim` argument to a layer. When using Sequential models, prefer using an `Input(shape)` object as the first layer in the model instead.\n",
            "  super().__init__(activity_regularizer=activity_regularizer, **kwargs)\n"
          ]
        },
        {
          "output_type": "stream",
          "name": "stdout",
          "text": [
            "Epoch 1/60\n"
          ]
        },
        {
          "output_type": "stream",
          "name": "stderr",
          "text": [
            "/usr/local/lib/python3.10/dist-packages/keras/src/trainers/data_adapters/py_dataset_adapter.py:122: UserWarning: Your `PyDataset` class should call `super().__init__(**kwargs)` in its constructor. `**kwargs` can include `workers`, `use_multiprocessing`, `max_queue_size`. Do not pass these arguments to `fit()`, as they will be ignored.\n",
            "  self._warn_if_super_not_called()\n"
          ]
        },
        {
          "output_type": "stream",
          "name": "stdout",
          "text": [
            "\u001b[1m16/16\u001b[0m \u001b[32m━━━━━━━━━━━━━━━━━━━━\u001b[0m\u001b[37m\u001b[0m \u001b[1m34s\u001b[0m 1s/step - accuracy: 0.3540 - loss: 0.3278 - val_accuracy: 0.3945 - val_loss: -4.9590\n",
            "Epoch 2/60\n",
            "\u001b[1m16/16\u001b[0m \u001b[32m━━━━━━━━━━━━━━━━━━━━\u001b[0m\u001b[37m\u001b[0m \u001b[1m37s\u001b[0m 1s/step - accuracy: 0.3486 - loss: -22.3193 - val_accuracy: 0.3945 - val_loss: -322.1575\n",
            "Epoch 3/60\n",
            "\u001b[1m16/16\u001b[0m \u001b[32m━━━━━━━━━━━━━━━━━━━━\u001b[0m\u001b[37m\u001b[0m \u001b[1m29s\u001b[0m 1s/step - accuracy: 0.3373 - loss: -438.7069 - val_accuracy: 0.3995 - val_loss: -1721.9427\n",
            "Epoch 4/60\n",
            "\u001b[1m16/16\u001b[0m \u001b[32m━━━━━━━━━━━━━━━━━━━━\u001b[0m\u001b[37m\u001b[0m \u001b[1m41s\u001b[0m 1s/step - accuracy: 0.3391 - loss: -2371.9355 - val_accuracy: 0.3945 - val_loss: -9895.8730\n",
            "Epoch 5/60\n",
            "\u001b[1m16/16\u001b[0m \u001b[32m━━━━━━━━━━━━━━━━━━━━\u001b[0m\u001b[37m\u001b[0m \u001b[1m41s\u001b[0m 1s/step - accuracy: 0.3611 - loss: -9478.2197 - val_accuracy: 0.4144 - val_loss: -21476.0586\n",
            "Epoch 6/60\n",
            "\u001b[1m16/16\u001b[0m \u001b[32m━━━━━━━━━━━━━━━━━━━━\u001b[0m\u001b[37m\u001b[0m \u001b[1m28s\u001b[0m 1s/step - accuracy: 0.3676 - loss: -32869.0234 - val_accuracy: 0.3945 - val_loss: -112761.7109\n",
            "Epoch 7/60\n",
            "\u001b[1m16/16\u001b[0m \u001b[32m━━━━━━━━━━━━━━━━━━━━\u001b[0m\u001b[37m\u001b[0m \u001b[1m29s\u001b[0m 1s/step - accuracy: 0.3469 - loss: -92894.0547 - val_accuracy: 0.3921 - val_loss: -259446.1875\n",
            "Epoch 8/60\n",
            "\u001b[1m16/16\u001b[0m \u001b[32m━━━━━━━━━━━━━━━━━━━━\u001b[0m\u001b[37m\u001b[0m \u001b[1m40s\u001b[0m 1s/step - accuracy: 0.3539 - loss: -219691.3906 - val_accuracy: 0.3945 - val_loss: -565057.0000\n",
            "Epoch 9/60\n",
            "\u001b[1m16/16\u001b[0m \u001b[32m━━━━━━━━━━━━━━━━━━━━\u001b[0m\u001b[37m\u001b[0m \u001b[1m29s\u001b[0m 1s/step - accuracy: 0.3317 - loss: -490186.2188 - val_accuracy: 0.3945 - val_loss: -1156201.5000\n",
            "Epoch 10/60\n",
            "\u001b[1m16/16\u001b[0m \u001b[32m━━━━━━━━━━━━━━━━━━━━\u001b[0m\u001b[37m\u001b[0m \u001b[1m40s\u001b[0m 1s/step - accuracy: 0.3356 - loss: -1273831.8750 - val_accuracy: 0.3945 - val_loss: -2414104.7500\n",
            "Epoch 11/60\n",
            "\u001b[1m16/16\u001b[0m \u001b[32m━━━━━━━━━━━━━━━━━━━━\u001b[0m\u001b[37m\u001b[0m \u001b[1m42s\u001b[0m 1s/step - accuracy: 0.3559 - loss: -2280240.2500 - val_accuracy: 0.3921 - val_loss: -5019767.0000\n",
            "Epoch 12/60\n",
            "\u001b[1m16/16\u001b[0m \u001b[32m━━━━━━━━━━━━━━━━━━━━\u001b[0m\u001b[37m\u001b[0m \u001b[1m41s\u001b[0m 1s/step - accuracy: 0.3425 - loss: -4101263.2500 - val_accuracy: 0.3945 - val_loss: -8902533.0000\n",
            "Epoch 13/60\n",
            "\u001b[1m16/16\u001b[0m \u001b[32m━━━━━━━━━━━━━━━━━━━━\u001b[0m\u001b[37m\u001b[0m \u001b[1m41s\u001b[0m 1s/step - accuracy: 0.3397 - loss: -8059133.0000 - val_accuracy: 0.3945 - val_loss: -15043285.0000\n",
            "Epoch 14/60\n",
            "\u001b[1m16/16\u001b[0m \u001b[32m━━━━━━━━━━━━━━━━━━━━\u001b[0m\u001b[37m\u001b[0m \u001b[1m28s\u001b[0m 1s/step - accuracy: 0.3412 - loss: -15683994.0000 - val_accuracy: 0.3921 - val_loss: -22742788.0000\n",
            "Epoch 15/60\n",
            "\u001b[1m16/16\u001b[0m \u001b[32m━━━━━━━━━━━━━━━━━━━━\u001b[0m\u001b[37m\u001b[0m \u001b[1m28s\u001b[0m 1s/step - accuracy: 0.3306 - loss: -18262362.0000 - val_accuracy: 0.3945 - val_loss: -38681032.0000\n",
            "Epoch 16/60\n",
            "\u001b[1m16/16\u001b[0m \u001b[32m━━━━━━━━━━━━━━━━━━━━\u001b[0m\u001b[37m\u001b[0m \u001b[1m29s\u001b[0m 1s/step - accuracy: 0.3527 - loss: -36501532.0000 - val_accuracy: 0.3896 - val_loss: -56089960.0000\n",
            "Epoch 17/60\n",
            "\u001b[1m16/16\u001b[0m \u001b[32m━━━━━━━━━━━━━━━━━━━━\u001b[0m\u001b[37m\u001b[0m \u001b[1m41s\u001b[0m 1s/step - accuracy: 0.3422 - loss: -52626012.0000 - val_accuracy: 0.3945 - val_loss: -92816176.0000\n",
            "Epoch 18/60\n",
            "\u001b[1m16/16\u001b[0m \u001b[32m━━━━━━━━━━━━━━━━━━━━\u001b[0m\u001b[37m\u001b[0m \u001b[1m41s\u001b[0m 1s/step - accuracy: 0.3317 - loss: -80658776.0000 - val_accuracy: 0.3945 - val_loss: -134909024.0000\n",
            "Epoch 19/60\n",
            "\u001b[1m16/16\u001b[0m \u001b[32m━━━━━━━━━━━━━━━━━━━━\u001b[0m\u001b[37m\u001b[0m \u001b[1m40s\u001b[0m 1s/step - accuracy: 0.3232 - loss: -116918688.0000 - val_accuracy: 0.3945 - val_loss: -194661264.0000\n",
            "Epoch 20/60\n",
            "\u001b[1m16/16\u001b[0m \u001b[32m━━━━━━━━━━━━━━━━━━━━\u001b[0m\u001b[37m\u001b[0m \u001b[1m41s\u001b[0m 1s/step - accuracy: 0.3358 - loss: -153603520.0000 - val_accuracy: 0.3945 - val_loss: -277449792.0000\n",
            "Epoch 21/60\n",
            "\u001b[1m16/16\u001b[0m \u001b[32m━━━━━━━━━━━━━━━━━━━━\u001b[0m\u001b[37m\u001b[0m \u001b[1m40s\u001b[0m 1s/step - accuracy: 0.3357 - loss: -225744048.0000 - val_accuracy: 0.3945 - val_loss: -380415328.0000\n",
            "Epoch 22/60\n",
            "\u001b[1m16/16\u001b[0m \u001b[32m━━━━━━━━━━━━━━━━━━━━\u001b[0m\u001b[37m\u001b[0m \u001b[1m28s\u001b[0m 1s/step - accuracy: 0.3296 - loss: -286762976.0000 - val_accuracy: 0.3896 - val_loss: -469478912.0000\n",
            "Epoch 23/60\n",
            "\u001b[1m16/16\u001b[0m \u001b[32m━━━━━━━━━━━━━━━━━━━━\u001b[0m\u001b[37m\u001b[0m \u001b[1m28s\u001b[0m 1s/step - accuracy: 0.3551 - loss: -477051072.0000 - val_accuracy: 0.3945 - val_loss: -651710016.0000\n",
            "Epoch 24/60\n",
            "\u001b[1m16/16\u001b[0m \u001b[32m━━━━━━━━━━━━━━━━━━━━\u001b[0m\u001b[37m\u001b[0m \u001b[1m41s\u001b[0m 1s/step - accuracy: 0.3428 - loss: -345198496.0000 - val_accuracy: 0.3945 - val_loss: -810050240.0000\n",
            "Epoch 25/60\n",
            "\u001b[1m16/16\u001b[0m \u001b[32m━━━━━━━━━━━━━━━━━━━━\u001b[0m\u001b[37m\u001b[0m \u001b[1m28s\u001b[0m 1s/step - accuracy: 0.3568 - loss: -693130112.0000 - val_accuracy: 0.3896 - val_loss: -931289728.0000\n",
            "Epoch 26/60\n",
            "\u001b[1m16/16\u001b[0m \u001b[32m━━━━━━━━━━━━━━━━━━━━\u001b[0m\u001b[37m\u001b[0m \u001b[1m41s\u001b[0m 1s/step - accuracy: 0.3420 - loss: -759558272.0000 - val_accuracy: 0.3921 - val_loss: -1205572864.0000\n",
            "Epoch 27/60\n",
            "\u001b[1m16/16\u001b[0m \u001b[32m━━━━━━━━━━━━━━━━━━━━\u001b[0m\u001b[37m\u001b[0m \u001b[1m29s\u001b[0m 1s/step - accuracy: 0.3493 - loss: -1059349632.0000 - val_accuracy: 0.3896 - val_loss: -1417265920.0000\n",
            "Epoch 28/60\n",
            "\u001b[1m16/16\u001b[0m \u001b[32m━━━━━━━━━━━━━━━━━━━━\u001b[0m\u001b[37m\u001b[0m \u001b[1m29s\u001b[0m 1s/step - accuracy: 0.3390 - loss: -1283769856.0000 - val_accuracy: 0.3945 - val_loss: -1861977984.0000\n",
            "Epoch 29/60\n",
            "\u001b[1m16/16\u001b[0m \u001b[32m━━━━━━━━━━━━━━━━━━━━\u001b[0m\u001b[37m\u001b[0m \u001b[1m28s\u001b[0m 1s/step - accuracy: 0.3279 - loss: -1385845376.0000 - val_accuracy: 0.3921 - val_loss: -2222726144.0000\n",
            "Epoch 30/60\n",
            "\u001b[1m16/16\u001b[0m \u001b[32m━━━━━━━━━━━━━━━━━━━━\u001b[0m\u001b[37m\u001b[0m \u001b[1m41s\u001b[0m 1s/step - accuracy: 0.3311 - loss: -1676786304.0000 - val_accuracy: 0.3945 - val_loss: -2751507968.0000\n",
            "Epoch 31/60\n",
            "\u001b[1m16/16\u001b[0m \u001b[32m━━━━━━━━━━━━━━━━━━━━\u001b[0m\u001b[37m\u001b[0m \u001b[1m29s\u001b[0m 1s/step - accuracy: 0.3437 - loss: -2125718784.0000 - val_accuracy: 0.3896 - val_loss: -3158153216.0000\n",
            "Epoch 32/60\n",
            "\u001b[1m16/16\u001b[0m \u001b[32m━━━━━━━━━━━━━━━━━━━━\u001b[0m\u001b[37m\u001b[0m \u001b[1m40s\u001b[0m 1s/step - accuracy: 0.3302 - loss: -2359174144.0000 - val_accuracy: 0.3945 - val_loss: -4069897472.0000\n",
            "Epoch 33/60\n",
            "\u001b[1m16/16\u001b[0m \u001b[32m━━━━━━━━━━━━━━━━━━━━\u001b[0m\u001b[37m\u001b[0m \u001b[1m40s\u001b[0m 1s/step - accuracy: 0.3345 - loss: -3068092416.0000 - val_accuracy: 0.3896 - val_loss: -4648599040.0000\n",
            "Epoch 34/60\n",
            "\u001b[1m16/16\u001b[0m \u001b[32m━━━━━━━━━━━━━━━━━━━━\u001b[0m\u001b[37m\u001b[0m \u001b[1m28s\u001b[0m 1s/step - accuracy: 0.3254 - loss: -4148798976.0000 - val_accuracy: 0.3896 - val_loss: -5600804352.0000\n",
            "Epoch 35/60\n",
            "\u001b[1m16/16\u001b[0m \u001b[32m━━━━━━━━━━━━━━━━━━━━\u001b[0m\u001b[37m\u001b[0m \u001b[1m41s\u001b[0m 1s/step - accuracy: 0.3459 - loss: -4627008512.0000 - val_accuracy: 0.3896 - val_loss: -6651745280.0000\n",
            "Epoch 36/60\n",
            "\u001b[1m16/16\u001b[0m \u001b[32m━━━━━━━━━━━━━━━━━━━━\u001b[0m\u001b[37m\u001b[0m \u001b[1m28s\u001b[0m 1s/step - accuracy: 0.3357 - loss: -6147648512.0000 - val_accuracy: 0.3945 - val_loss: -8183529472.0000\n",
            "Epoch 37/60\n",
            "\u001b[1m16/16\u001b[0m \u001b[32m━━━━━━━━━━━━━━━━━━━━\u001b[0m\u001b[37m\u001b[0m \u001b[1m41s\u001b[0m 1s/step - accuracy: 0.3307 - loss: -5077166592.0000 - val_accuracy: 0.3921 - val_loss: -9457959936.0000\n",
            "Epoch 38/60\n",
            "\u001b[1m16/16\u001b[0m \u001b[32m━━━━━━━━━━━━━━━━━━━━\u001b[0m\u001b[37m\u001b[0m \u001b[1m41s\u001b[0m 1s/step - accuracy: 0.3416 - loss: -5705837568.0000 - val_accuracy: 0.3921 - val_loss: -10987668480.0000\n",
            "Epoch 39/60\n",
            "\u001b[1m16/16\u001b[0m \u001b[32m━━━━━━━━━━━━━━━━━━━━\u001b[0m\u001b[37m\u001b[0m \u001b[1m41s\u001b[0m 1s/step - accuracy: 0.3306 - loss: -9408004096.0000 - val_accuracy: 0.3896 - val_loss: -12651127808.0000\n",
            "Epoch 40/60\n",
            "\u001b[1m16/16\u001b[0m \u001b[32m━━━━━━━━━━━━━━━━━━━━\u001b[0m\u001b[37m\u001b[0m \u001b[1m41s\u001b[0m 1s/step - accuracy: 0.3519 - loss: -8282930176.0000 - val_accuracy: 0.3921 - val_loss: -14696236032.0000\n",
            "Epoch 41/60\n",
            "\u001b[1m16/16\u001b[0m \u001b[32m━━━━━━━━━━━━━━━━━━━━\u001b[0m\u001b[37m\u001b[0m \u001b[1m41s\u001b[0m 1s/step - accuracy: 0.3319 - loss: -9469031424.0000 - val_accuracy: 0.3921 - val_loss: -17163308032.0000\n",
            "Epoch 42/60\n",
            "\u001b[1m16/16\u001b[0m \u001b[32m━━━━━━━━━━━━━━━━━━━━\u001b[0m\u001b[37m\u001b[0m \u001b[1m28s\u001b[0m 1s/step - accuracy: 0.3419 - loss: -14303785984.0000 - val_accuracy: 0.3921 - val_loss: -19756802048.0000\n",
            "Epoch 43/60\n",
            "\u001b[1m16/16\u001b[0m \u001b[32m━━━━━━━━━━━━━━━━━━━━\u001b[0m\u001b[37m\u001b[0m \u001b[1m29s\u001b[0m 1s/step - accuracy: 0.3357 - loss: -15406543872.0000 - val_accuracy: 0.3896 - val_loss: -22114355200.0000\n",
            "Epoch 44/60\n",
            "\u001b[1m16/16\u001b[0m \u001b[32m━━━━━━━━━━━━━━━━━━━━\u001b[0m\u001b[37m\u001b[0m \u001b[1m28s\u001b[0m 1s/step - accuracy: 0.3395 - loss: -20812722176.0000 - val_accuracy: 0.3896 - val_loss: -25425475584.0000\n",
            "Epoch 45/60\n",
            "\u001b[1m16/16\u001b[0m \u001b[32m━━━━━━━━━━━━━━━━━━━━\u001b[0m\u001b[37m\u001b[0m \u001b[1m41s\u001b[0m 1s/step - accuracy: 0.3392 - loss: -11568374784.0000 - val_accuracy: 0.3921 - val_loss: -28946962432.0000\n",
            "Epoch 46/60\n",
            "\u001b[1m16/16\u001b[0m \u001b[32m━━━━━━━━━━━━━━━━━━━━\u001b[0m\u001b[37m\u001b[0m \u001b[1m28s\u001b[0m 1s/step - accuracy: 0.3390 - loss: -24354295808.0000 - val_accuracy: 0.3921 - val_loss: -33174552576.0000\n",
            "Epoch 47/60\n",
            "\u001b[1m16/16\u001b[0m \u001b[32m━━━━━━━━━━━━━━━━━━━━\u001b[0m\u001b[37m\u001b[0m \u001b[1m28s\u001b[0m 1s/step - accuracy: 0.3479 - loss: -25121327104.0000 - val_accuracy: 0.3896 - val_loss: -35336216576.0000\n",
            "Epoch 48/60\n",
            "\u001b[1m16/16\u001b[0m \u001b[32m━━━━━━━━━━━━━━━━━━━━\u001b[0m\u001b[37m\u001b[0m \u001b[1m28s\u001b[0m 1s/step - accuracy: 0.3462 - loss: -35539587072.0000 - val_accuracy: 0.3921 - val_loss: -41633886208.0000\n",
            "Epoch 49/60\n",
            "\u001b[1m16/16\u001b[0m \u001b[32m━━━━━━━━━━━━━━━━━━━━\u001b[0m\u001b[37m\u001b[0m \u001b[1m42s\u001b[0m 1s/step - accuracy: 0.3439 - loss: -33062275072.0000 - val_accuracy: 0.3896 - val_loss: -44975534080.0000\n",
            "Epoch 50/60\n",
            "\u001b[1m16/16\u001b[0m \u001b[32m━━━━━━━━━━━━━━━━━━━━\u001b[0m\u001b[37m\u001b[0m \u001b[1m40s\u001b[0m 1s/step - accuracy: 0.3219 - loss: -36274761728.0000 - val_accuracy: 0.3921 - val_loss: -52074262528.0000\n",
            "Epoch 51/60\n",
            "\u001b[1m16/16\u001b[0m \u001b[32m━━━━━━━━━━━━━━━━━━━━\u001b[0m\u001b[37m\u001b[0m \u001b[1m41s\u001b[0m 1s/step - accuracy: 0.3526 - loss: -35781677056.0000 - val_accuracy: 0.3921 - val_loss: -58002874368.0000\n",
            "Epoch 52/60\n",
            "\u001b[1m16/16\u001b[0m \u001b[32m━━━━━━━━━━━━━━━━━━━━\u001b[0m\u001b[37m\u001b[0m \u001b[1m41s\u001b[0m 1s/step - accuracy: 0.3290 - loss: -44106072064.0000 - val_accuracy: 0.3896 - val_loss: -62780747776.0000\n",
            "Epoch 53/60\n",
            "\u001b[1m16/16\u001b[0m \u001b[32m━━━━━━━━━━━━━━━━━━━━\u001b[0m\u001b[37m\u001b[0m \u001b[1m29s\u001b[0m 1s/step - accuracy: 0.3379 - loss: -40605114368.0000 - val_accuracy: 0.3921 - val_loss: -70280093696.0000\n",
            "Epoch 54/60\n",
            "\u001b[1m16/16\u001b[0m \u001b[32m━━━━━━━━━━━━━━━━━━━━\u001b[0m\u001b[37m\u001b[0m \u001b[1m41s\u001b[0m 1s/step - accuracy: 0.3365 - loss: -53502464000.0000 - val_accuracy: 0.3945 - val_loss: -79152644096.0000\n",
            "Epoch 55/60\n",
            "\u001b[1m16/16\u001b[0m \u001b[32m━━━━━━━━━━━━━━━━━━━━\u001b[0m\u001b[37m\u001b[0m \u001b[1m41s\u001b[0m 1s/step - accuracy: 0.3407 - loss: -60851077120.0000 - val_accuracy: 0.3921 - val_loss: -86795173888.0000\n",
            "Epoch 56/60\n",
            "\u001b[1m16/16\u001b[0m \u001b[32m━━━━━━━━━━━━━━━━━━━━\u001b[0m\u001b[37m\u001b[0m \u001b[1m42s\u001b[0m 1s/step - accuracy: 0.3375 - loss: -75658141696.0000 - val_accuracy: 0.3896 - val_loss: -95009497088.0000\n",
            "Epoch 57/60\n",
            "\u001b[1m16/16\u001b[0m \u001b[32m━━━━━━━━━━━━━━━━━━━━\u001b[0m\u001b[37m\u001b[0m \u001b[1m30s\u001b[0m 1s/step - accuracy: 0.3276 - loss: -90763468800.0000 - val_accuracy: 0.3896 - val_loss: -104782012416.0000\n",
            "Epoch 58/60\n",
            "\u001b[1m16/16\u001b[0m \u001b[32m━━━━━━━━━━━━━━━━━━━━\u001b[0m\u001b[37m\u001b[0m \u001b[1m40s\u001b[0m 1s/step - accuracy: 0.3671 - loss: -73722789888.0000 - val_accuracy: 0.3896 - val_loss: -115585597440.0000\n",
            "Epoch 59/60\n",
            "\u001b[1m16/16\u001b[0m \u001b[32m━━━━━━━━━━━━━━━━━━━━\u001b[0m\u001b[37m\u001b[0m \u001b[1m41s\u001b[0m 1s/step - accuracy: 0.3373 - loss: -89619668992.0000 - val_accuracy: 0.3896 - val_loss: -126433370112.0000\n",
            "Epoch 60/60\n",
            "\u001b[1m16/16\u001b[0m \u001b[32m━━━━━━━━━━━━━━━━━━━━\u001b[0m\u001b[37m\u001b[0m \u001b[1m28s\u001b[0m 1s/step - accuracy: 0.3394 - loss: -94898372608.0000 - val_accuracy: 0.3896 - val_loss: -137431171072.0000\n"
          ]
        },
        {
          "output_type": "stream",
          "name": "stderr",
          "text": [
            "WARNING:absl:You are saving your model as an HDF5 file via `model.save()` or `keras.saving.save_model(model)`. This file format is considered legacy. We recommend using instead the native Keras format, e.g. `model.save('my_model.keras')` or `keras.saving.save_model(model, 'my_model.keras')`. \n"
          ]
        },
        {
          "output_type": "stream",
          "name": "stdout",
          "text": [
            "Model training complete and saved as '/content/drive/MyDrive/AI/Ai train save path/meat_freshness_classifier.h5'.\n"
          ]
        }
      ]
    }
  ]
}